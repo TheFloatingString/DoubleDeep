{
 "cells": [
  {
   "cell_type": "code",
   "execution_count": 9,
   "metadata": {},
   "outputs": [],
   "source": [
    "import numpy as np\n",
    "from sklearn.preprocessing import MaxAbsScaler"
   ]
  },
  {
   "cell_type": "code",
   "execution_count": 33,
   "metadata": {},
   "outputs": [],
   "source": [
    "X = np.genfromtxt(\"datasets/breast_cancer/breast_cancer_x.csv\", delimiter=\",\")\n",
    "X_mod = X"
   ]
  },
  {
   "cell_type": "code",
   "execution_count": 13,
   "metadata": {},
   "outputs": [],
   "source": [
    "scaler = MaxAbsScaler()\n",
    "X_mod = scaler.fit_transform(X)"
   ]
  },
  {
   "cell_type": "code",
   "execution_count": 44,
   "metadata": {},
   "outputs": [
    {
     "data": {
      "text/plain": [
       "(579, 10)"
      ]
     },
     "execution_count": 44,
     "metadata": {},
     "output_type": "execute_result"
    }
   ],
   "source": [
    "X_mod.shape"
   ]
  },
  {
   "cell_type": "code",
   "execution_count": 42,
   "metadata": {},
   "outputs": [
    {
     "data": {
      "text/plain": [
       "array([[  nan,   nan,   nan, ...,   nan,   nan,   nan],\n",
       "       [65.  ,   nan,  0.7 , ...,  3.3 ,  0.9 ,  1.  ],\n",
       "       [62.  ,   nan, 10.9 , ...,  3.2 ,  0.74,  1.  ],\n",
       "       ...,\n",
       "       [52.  ,   nan,  0.8 , ...,  3.2 ,  1.  ,  1.  ],\n",
       "       [31.  ,   nan,  1.3 , ...,  3.4 ,  1.  ,  1.  ],\n",
       "       [38.  ,   nan,  1.  , ...,  4.4 ,  1.5 ,  2.  ]])"
      ]
     },
     "execution_count": 42,
     "metadata": {},
     "output_type": "execute_result"
    }
   ],
   "source": [
    "X_mod"
   ]
  },
  {
   "cell_type": "code",
   "execution_count": 62,
   "metadata": {
    "scrolled": true
   },
   "outputs": [
    {
     "name": "stdout",
     "output_type": "stream",
     "text": [
      "0\n",
      "0.26400330887930024\n",
      "1\n",
      "0.14340493831967285\n",
      "2\n",
      "0.3193918853301931\n",
      "3\n",
      "0.23864975475384223\n",
      "4\n",
      "0.34421655207474006\n",
      "5\n",
      "0.2521488495372025\n"
     ]
    }
   ],
   "source": [
    "master_std = []\n",
    "for column in range(len(X_mod[0])):\n",
    "    temp_col = X_mod[column]\n",
    "    print(column)\n",
    "    print(np.std(temp_col))\n",
    "    master_std.append(np.std(temp_col))"
   ]
  },
  {
   "cell_type": "code",
   "execution_count": 63,
   "metadata": {},
   "outputs": [
    {
     "data": {
      "text/plain": [
       "0.2603025481491585"
      ]
     },
     "execution_count": 63,
     "metadata": {},
     "output_type": "execute_result"
    }
   ],
   "source": [
    "np.mean(master_std)"
   ]
  },
  {
   "cell_type": "code",
   "execution_count": 60,
   "metadata": {
    "scrolled": true
   },
   "outputs": [
    {
     "data": {
      "text/plain": [
       "0.4908356366316565"
      ]
     },
     "execution_count": 60,
     "metadata": {},
     "output_type": "execute_result"
    }
   ],
   "source": [
    "np.mean(X_mod.reshape(-1))"
   ]
  },
  {
   "cell_type": "code",
   "execution_count": 57,
   "metadata": {
    "scrolled": false
   },
   "outputs": [],
   "source": [
    "X_mod = np.genfromtxt(\"datasets/cryo/cryo_x.csv\", delimiter=\",\")"
   ]
  },
  {
   "cell_type": "code",
   "execution_count": 59,
   "metadata": {},
   "outputs": [
    {
     "data": {
      "text/plain": [
       "(90, 6)"
      ]
     },
     "execution_count": 59,
     "metadata": {},
     "output_type": "execute_result"
    }
   ],
   "source": [
    "X_mod.shape"
   ]
  }
 ],
 "metadata": {
  "kernelspec": {
   "display_name": "Python 3",
   "language": "python",
   "name": "python3"
  },
  "language_info": {
   "codemirror_mode": {
    "name": "ipython",
    "version": 3
   },
   "file_extension": ".py",
   "mimetype": "text/x-python",
   "name": "python",
   "nbconvert_exporter": "python",
   "pygments_lexer": "ipython3",
   "version": "3.6.4"
  }
 },
 "nbformat": 4,
 "nbformat_minor": 2
}
